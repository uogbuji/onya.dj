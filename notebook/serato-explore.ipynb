{
 "cells": [
  {
   "cell_type": "markdown",
   "id": "composed-public",
   "metadata": {},
   "source": [
    "*Scroll to the bottom for setup & config for this notebook.*\n",
    "\n",
    "Start by loading the Serato DB into the `onya.dj.serial.serato.db` structure"
   ]
  },
  {
   "cell_type": "code",
   "execution_count": 77,
   "id": "durable-density",
   "metadata": {
    "tags": []
   },
   "outputs": [
    {
     "name": "stdout",
     "output_type": "stream",
     "text": [
      "The autoreload extension is already loaded. To reload it, use:\n",
      "  %reload_ext autoreload\n"
     ]
    }
   ],
   "source": [
    "# Following 5 lines provide notebook features\n",
    "%load_ext autoreload\n",
    "%autoreload 2\n",
    "from IPython.utils import io\n",
    "import ipywidgets as widgets\n",
    "from ipywidgets import interact, interact_manual\n",
    "\n",
    "import functools\n",
    "\n",
    "from onya.dj.serial.serato import crate, db\n",
    "from pathlib import Path\n",
    "from fuzzywuzzy import fuzz, process\n",
    "\n",
    "DBPATH = str(Path.home() / Path('Music/_Serato_/database V2'))\n",
    "sdb = db()\n",
    "# Technique found at: https://stackoverflow.com/a/23611571\n",
    "with io.capture_output() as captured:\n",
    "    sdb.load(DBPATH)\n",
    "\n",
    "# sdb.track_data_frame.head()\n",
    "# How many tracks in DB?\n",
    "# len(sdb.tracks)"
   ]
  },
  {
   "cell_type": "code",
   "execution_count": 76,
   "id": "irish-feelings",
   "metadata": {},
   "outputs": [
    {
     "data": {
      "application/vnd.jupyter.widget-view+json": {
       "model_id": "8326419a24654d4e9046fc67f6c84861",
       "version_major": 2,
       "version_minor": 0
      },
      "text/plain": [
       "interactive(children=(Text(value='SWV', description='searchq'), Output()), _dom_classes=('widget-interact',))"
      ]
     },
     "metadata": {},
     "output_type": "display_data"
    }
   ],
   "source": [
    "# Interactive track DB search\n",
    "@interact\n",
    "def show_articles_more_than(searchq='SWV'):\n",
    "    return sdb.search(searchq).sort_values(by='tbpm')\n"
   ]
  },
  {
   "cell_type": "markdown",
   "id": "enormous-agent",
   "metadata": {},
   "source": [
    "Requires fuzzywuzzy, Pandas & [iPyWidgets](https://ipywidgets.readthedocs.io/en/stable/user_install.html) ([useful notes on the latter](https://towardsdatascience.com/interactive-controls-for-jupyter-notebooks-f5c94829aee6)). Use `pip install -Ur requirements.notebook.txt`"
   ]
  },
  {
   "cell_type": "code",
   "execution_count": null,
   "id": "arctic-pharmacy",
   "metadata": {},
   "outputs": [],
   "source": []
  }
 ],
 "metadata": {
  "kernelspec": {
   "display_name": "Python 3",
   "language": "python",
   "name": "python3"
  },
  "language_info": {
   "codemirror_mode": {
    "name": "ipython",
    "version": 3
   },
   "file_extension": ".py",
   "mimetype": "text/x-python",
   "name": "python",
   "nbconvert_exporter": "python",
   "pygments_lexer": "ipython3",
   "version": "3.8.5"
  }
 },
 "nbformat": 4,
 "nbformat_minor": 5
}
